{
 "cells": [
  {
   "cell_type": "markdown",
   "metadata": {},
   "source": [
    "<h1> Python - 102 - Variables and Types</h1>"
   ]
  },
  {
   "cell_type": "markdown",
   "metadata": {},
   "source": [
    "<h4>Assigning Values to Variables</h4>"
   ]
  },
  {
   "cell_type": "code",
   "execution_count": 1,
   "metadata": {},
   "outputs": [],
   "source": [
    "counter = 100 # An integer assignment\n",
    "miles = 1000.0 # A floating point\n",
    "name = \"John\" # A string\n",
    "#print (counter)\n",
    "#print (miles)\n",
    "#print (name)"
   ]
  },
  {
   "cell_type": "markdown",
   "metadata": {},
   "source": [
    "<h4>Multiple Assignments</h4>"
   ]
  },
  {
   "cell_type": "code",
   "execution_count": 2,
   "metadata": {},
   "outputs": [],
   "source": [
    "a = b = c = 1\n",
    "#print(a,b,c)"
   ]
  },
  {
   "cell_type": "code",
   "execution_count": 3,
   "metadata": {},
   "outputs": [],
   "source": [
    "a, b, c = 1, 2, \"john\"\n",
    "#print(a,b,c)"
   ]
  },
  {
   "cell_type": "markdown",
   "metadata": {},
   "source": [
    "<h4>Numbers</h4>\n",
    "<p>Number data types store numeric values. Number objects are created when you assign a value to them.</p>"
   ]
  },
  {
   "cell_type": "code",
   "execution_count": 4,
   "metadata": {},
   "outputs": [],
   "source": [
    "var1 = 50\n",
    "var2 = 100\n",
    "#print(var1 + var2, var2 - var1)"
   ]
  },
  {
   "cell_type": "markdown",
   "metadata": {},
   "source": [
    "<h4>Strings</h4>\n",
    "<p>Strings in Python are identified as a contiguous set of characters represented in the quotation marks.</p>"
   ]
  },
  {
   "cell_type": "code",
   "execution_count": 5,
   "metadata": {},
   "outputs": [],
   "source": [
    "str = 'Hello World!'\n",
    "#print (str) # Prints complete string\n",
    "#print (str[0]) # Prints first character of the string\n",
    "#print (str[2:5]) # Prints characters starting from 3rd to 5th\n",
    "#print (str[2:]) # Prints string starting from 3rd character\n",
    "#print (str * 2) # Prints string two times\n",
    "#print (str + \"TEST\") # Prints concatenated string"
   ]
  },
  {
   "cell_type": "markdown",
   "metadata": {},
   "source": [
    "<h4>Lists</h4>\n",
    "<p>A list contains items separated by commas and enclosed within square brackets ([]).</p>\n",
    "<p>It can hold more than one kind of data type</p>"
   ]
  },
  {
   "cell_type": "code",
   "execution_count": 6,
   "metadata": {},
   "outputs": [],
   "source": [
    "list = [ 'abcd', 786 , 2.23, 'john', 70.2 ]\n",
    "tinylist = [123, 'john']\n",
    "#print (list) # Prints complete list\n",
    "#print (list[0]) # Prints first element of the list\n",
    "#print (list[1:3]) # Prints elements starting from 2nd till 3rd\n",
    "#print (list[2:]) # Prints elements starting from 3rd element\n",
    "#print (tinylist * 2) # Prints list two times\n",
    "#print (list + tinylist) # Prints concatenated lists"
   ]
  },
  {
   "cell_type": "markdown",
   "metadata": {},
   "source": [
    "<h4>Tuples</h4>\n",
    "<p>A tuple is another sequence data type that is similar to the list. A tuple consists of a number of values separated by commas. Unlike lists, however, tuples are enclosed within parenthesis.</p>\n",
    "<p>The main difference between lists and tuples is- Lists are enclosed in brackets ( [ ] ) and their elements and size can be changed, while tuples are enclosed in parentheses ( ( ) ) and cannot be updated. Tuples can be thought of as read-only lists.</p>"
   ]
  },
  {
   "cell_type": "code",
   "execution_count": 7,
   "metadata": {},
   "outputs": [],
   "source": [
    "tuple = ( 'abcd', 786 , 2.23, 'john', 70.2 )\n",
    "tinytuple = (123, 'john')\n",
    "#print (tuple) # Prints complete tuple\n",
    "#print (tuple[0]) # Prints first element of the tuple\n",
    "#print (tuple[1:3]) # Prints elements starting from 2nd till 3rd\n",
    "#print (tuple[2:]) # Prints elements starting from 3rd element\n",
    "#print (tinytuple * 2) # Prints tuple two times\n",
    "#print (tuple + tinytuple) # Prints concatenated tuple"
   ]
  },
  {
   "cell_type": "markdown",
   "metadata": {},
   "source": [
    "<h4>Dictionary</h4>\n",
    "<p>Python's dictionaries are kind of hash-table type.</p>\n",
    "<p>It consist of key-value pairs.</p>\n",
    "<p>A dictionary key can be almost any Python type, but are usually numbers or strings. Values, on the other hand, can be any arbitrary Python object. But it has to be immutable</p>"
   ]
  },
  {
   "cell_type": "code",
   "execution_count": 8,
   "metadata": {},
   "outputs": [],
   "source": [
    "dict = {}\n",
    "dict['one'] = \"This is one\"\n",
    "dict[2] = \"This is two\"\n",
    "tinydict = {'name': 'john','code':6734, 'dept': 'sales'}\n",
    "#print (dict['one']) # Prints value for 'one' key\n",
    "#print (dict[2]) # Prints value for 2 key\n",
    "#print (tinydict) # Prints complete dictionary\n",
    "#print (tinydict.keys()) # Prints all the keys\n",
    "#print (tinydict.values()) # Prints all the values"
   ]
  },
  {
   "cell_type": "markdown",
   "metadata": {},
   "source": [
    "<h4>Data Type COnversion</h4>\n",
    "<p>Conversion of one type of Data to another</p>\n",
    "<p>int(x [,base]) - Converts x to an integer. The base specifies the base if x is a string.</p>\n",
    "<p>float(x) - Converts x to a floating-point number.</p>\n",
    "<p>complex(real[,imag]) - Creates a complex number.</p>\n",
    "<p>str(x) - Converts object x to a string representation.</p>\n",
    "<p>tuple(s) - Converts s to a tuple.</p>\n",
    "<p>list(s) - Converts s to a list.</p>\n",
    "<p>set(s) - Converts s to a set.</p>\n",
    "<p>dict(d) - Creates a dictionary. d must be a sequence of (key,value) tuples.</p>"
   ]
  }
 ],
 "metadata": {
  "kernelspec": {
   "display_name": "Python 3",
   "language": "python",
   "name": "python3"
  },
  "language_info": {
   "codemirror_mode": {
    "name": "ipython",
    "version": 3
   },
   "file_extension": ".py",
   "mimetype": "text/x-python",
   "name": "python",
   "nbconvert_exporter": "python",
   "pygments_lexer": "ipython3",
   "version": "3.8.3"
  }
 },
 "nbformat": 4,
 "nbformat_minor": 4
}
