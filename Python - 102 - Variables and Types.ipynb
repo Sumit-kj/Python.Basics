{
 "cells": [
  {
   "cell_type": "markdown",
   "metadata": {},
   "source": [
    "<h1> Python - 102 - Variables and Types</h1>"
   ]
  },
  {
   "cell_type": "markdown",
   "metadata": {},
   "source": [
    "<h4>Assigning Values to Variables</h4>"
   ]
  },
  {
   "cell_type": "code",
   "execution_count": 1,
   "metadata": {},
   "outputs": [
    {
     "name": "stdout",
     "output_type": "stream",
     "text": [
      "100\n",
      "1000.0\n",
      "John\n"
     ]
    }
   ],
   "source": [
    "counter = 100 # An integer assignment\n",
    "miles = 1000.0 # A floating point\n",
    "name = \"John\" # A string\n",
    "print (counter)\n",
    "print (miles)\n",
    "print (name)"
   ]
  },
  {
   "cell_type": "markdown",
   "metadata": {},
   "source": [
    "<h4>Multiple Assignments</h4>"
   ]
  },
  {
   "cell_type": "code",
   "execution_count": 2,
   "metadata": {},
   "outputs": [
    {
     "name": "stdout",
     "output_type": "stream",
     "text": [
      "1 1 1\n"
     ]
    }
   ],
   "source": [
    "a = b = c = 1\n",
    "print(a,b,c)"
   ]
  },
  {
   "cell_type": "code",
   "execution_count": 3,
   "metadata": {},
   "outputs": [
    {
     "name": "stdout",
     "output_type": "stream",
     "text": [
      "1 2 john\n"
     ]
    }
   ],
   "source": [
    "a, b, c = 1, 2, \"john\"\n",
    "# a = 1\n",
    "# b = 2\n",
    "# c = \"John\"\n",
    "print(a,b,c)"
   ]
  },
  {
   "cell_type": "markdown",
   "metadata": {},
   "source": [
    "<h4>Numbers</h4>\n",
    "<p>Number data types store numeric values. Number objects are created when you assign a value to them.</p>"
   ]
  },
  {
   "cell_type": "code",
   "execution_count": 4,
   "metadata": {},
   "outputs": [
    {
     "name": "stdout",
     "output_type": "stream",
     "text": [
      "150 50\n",
      "200\n"
     ]
    }
   ],
   "source": [
    "var1 = 50\n",
    "var2 = 100\n",
    "print(var1 + var2, var2 - var1)\n",
    "print(var1 + var2 + var2 - var1)"
   ]
  },
  {
   "cell_type": "markdown",
   "metadata": {},
   "source": [
    "<h4>Strings</h4>\n",
    "<p>Strings in Python are identified as a continuous set of characters represented in the quotation marks.</p>"
   ]
  },
  {
   "cell_type": "code",
   "execution_count": 5,
   "metadata": {},
   "outputs": [
    {
     "name": "stdout",
     "output_type": "stream",
     "text": [
      "Hello World!\n",
      "H\n",
      "llo W\n",
      "llo World!\n",
      "Hello W\n",
      "Hello World!Hello World!Hello World!\n",
      "Hello World! TEST\n"
     ]
    }
   ],
   "source": [
    "string1 = 'Hello World!'\n",
    "print (string1) # Prints complete string\n",
    "print (string1[0]) # Prints first character of the string - string slicing\n",
    "print (string1[2:7]) # Prints characters starting from 3rd to 5th - string slicing\n",
    "print (string1[2:]) # Prints string starting from 3rd character - string slicing\n",
    "print (string1[:7]) # Prints string starting from 3rd character - string slicing\n",
    "print (string1 * 3) # Prints string two times - string multiplication\n",
    "print (string1 + \" TEST\") # Prints concatenated string  - string concatenation"
   ]
  },
  {
   "cell_type": "markdown",
   "metadata": {},
   "source": [
    "<h4>Lists</h4>\n",
    "<p>A list contains items separated by commas and enclosed within square brackets ([]).</p>\n",
    "<p>It can hold more than one kind of data type</p>"
   ]
  },
  {
   "cell_type": "code",
   "execution_count": 8,
   "metadata": {},
   "outputs": [
    {
     "name": "stdout",
     "output_type": "stream",
     "text": [
      "['abcd', 108, 2.23, 'john', 70.2]\n",
      "abcd\n",
      "[108, 2.23]\n",
      "[2.23, 'john', 70.2]\n",
      "['abcd', 108, 2.23, 'john', 70.2]\n",
      "[123, 'john', 123, 'john']\n",
      "['abcd', 108, 2.23, 'john', 70.2, 123, 'john']\n",
      "['abcd', 108, 3.14, 'john', 70.2]\n"
     ]
    }
   ],
   "source": [
    "list12 = [ 'abcd', 108 , 2.23, 'john', 70.2 ]\n",
    "tinylist = [123, 'john']\n",
    "print (list12) # Prints complete list\n",
    "print (list12[0]) # Prints first element of the list\n",
    "print (list12[1:3]) # Prints elements starting from 2nd till 3rd\n",
    "print (list12[2:]) # Prints elements starting from 3rd element\n",
    "print (list12[:])\n",
    "print (tinylist * 2) # Prints list two times\n",
    "print (list12 + tinylist) # Prints concatenated lists\n",
    "\n",
    "list12[2] = 3.14\n",
    "print(list12)"
   ]
  },
  {
   "cell_type": "markdown",
   "metadata": {},
   "source": [
    "<h4>Tuples</h4>\n",
    "<p>A tuple is another sequence data type that is similar to the list. A tuple consists of a number of values separated by commas. Unlike lists, however, tuples are enclosed within parenthesis.</p>\n",
    "<p>The main difference between lists and tuples is- Lists are enclosed in brackets ( [ ] ) and their elements and size can be changed, while tuples are enclosed in parentheses ( ( ) ) and cannot be updated. <b>Tuples can be thought of as read-only lists.</b></p>"
   ]
  },
  {
   "cell_type": "code",
   "execution_count": 7,
   "metadata": {},
   "outputs": [
    {
     "name": "stdout",
     "output_type": "stream",
     "text": [
      "('abcd', 108, 2.23, 'john', 70.2)\n",
      "abcd\n",
      "(108, 2.23)\n",
      "(2.23, 'john', 70.2)\n",
      "(123, 'john', 123, 'john')\n",
      "('abcd', 108, 2.23, 'john', 70.2, 123, 'john')\n"
     ]
    }
   ],
   "source": [
    "tuple12 = ( 'abcd', 108 , 2.23, 'john', 70.2 )\n",
    "tinytuple = (123, 'john')\n",
    "print (tuple12) # Prints complete tuple\n",
    "print (tuple12[0]) # Prints first element of the tuple\n",
    "print (tuple12[1:3]) # Prints elements starting from 2nd till 3rd\n",
    "print (tuple12[2:]) # Prints elements starting from 3rd element\n",
    "print (tinytuple * 2) # Prints tuple two times\n",
    "print (tuple12 + tinytuple) # Prints concatenated tuple\n",
    "\n",
    "# tuple[2] = 3.14\n",
    "# print(tuple)"
   ]
  },
  {
   "cell_type": "markdown",
   "metadata": {},
   "source": [
    "<h4>Dictionary</h4>\n",
    "<p>Python's dictionaries are kind of hash-table type.</p>\n",
    "<p>It consist of key-value pairs.</p>\n",
    "<p>A dictionary key can be almost any Python type, but are usually numbers or strings. Values, on the other hand, can be any arbitrary Python object. But key has to be immutable</p>"
   ]
  },
  {
   "cell_type": "code",
   "execution_count": 9,
   "metadata": {},
   "outputs": [
    {
     "name": "stdout",
     "output_type": "stream",
     "text": [
      "This is one\n",
      "This is two\n",
      "{'name': 'john', 'code': 6734, 'dept': 'sales'}\n",
      "dict_keys(['name', 'code', 'dept'])\n",
      "dict_values(['john', 6734, 'sales'])\n",
      "{'one': 'This is one', 2: 'This is two'}\n",
      "{'one': 'Changed Value', 2: 'This is two'}\n"
     ]
    }
   ],
   "source": [
    "dict12 = {} # dict = {}\n",
    "dict12['one'] = \"This is one\" # dict = {'one': 'This is one'}\n",
    "dict12[2] = \"This is two\" # dict ={'one': This is one, 2: 'This is two'}\n",
    "tinydict = {'name': 'john','code':6734, 'dept': 'sales'}\n",
    "print (dict12['one']) # Prints value for 'one' key\n",
    "print (dict12[2]) # Prints value for 2 key\n",
    "print (tinydict) # Prints complete dictionary\n",
    "print (tinydict.keys()) # Prints all the keys\n",
    "print (tinydict.values()) # Prints all the values\n",
    "print(dict12)\n",
    "dict12['one'] = 'Changed Value'\n",
    "print(dict12) # dict "
   ]
  },
  {
   "cell_type": "markdown",
   "metadata": {},
   "source": [
    "<h4>Data Type Conversion</h4>\n",
    "<p>Conversion of one type of Data to another</p>\n",
    "<p>int(x [,base]) - Converts x to an integer. The base specifies the base if x is a string.</p>\n",
    "<p>float(x) - Converts x to a floating-point number.</p>\n",
    "<p>complex(real[,imag]) - Creates a complex number.</p>\n",
    "<p>str(x) - Converts object x to a string representation.</p>\n",
    "<p>tuple(s) - Converts s to a tuple.</p>\n",
    "<p>list(s) - Converts s to a list.</p>\n",
    "<p>set(s) - Converts s to a set.</p>\n",
    "<p>dict(d) - Creates a dictionary. d must be a sequence of (key,value) tuples.</p>"
   ]
  },
  {
   "cell_type": "code",
   "execution_count": 9,
   "metadata": {},
   "outputs": [
    {
     "name": "stdout",
     "output_type": "stream",
     "text": [
      "<class 'str'>\n",
      "123 123\n",
      "<class 'int'>\n",
      "123.0\n",
      "<class 'float'>\n",
      "<class 'int'> <class 'str'>\n",
      "(1, 2, 3) <class 'tuple'>\n",
      "[3, 4, 5] <class 'list'>\n",
      "{1, 2, 3, 4, 5, 6} <class 'set'>\n"
     ]
    }
   ],
   "source": [
    "a = '123'\n",
    "print(type(a))\n",
    "b = int(a)\n",
    "print(a,b)\n",
    "print(type(b))\n",
    "c = float(a)\n",
    "print(c)\n",
    "print(type(c))\n",
    "cmd = 456789\n",
    "string = str(cmd)\n",
    "print(type(cmd), type(string))\n",
    "l = [1,2,3]\n",
    "t = tuple(l)\n",
    "print(t, type(t))\n",
    "t1 = (3,4,5)\n",
    "l1 = list(t1)\n",
    "print(l1, type(l1))\n",
    "l2 = [1,2,3,4,5,6,1,2,3]\n",
    "s2 = set(l2)\n",
    "print(s2, type(s2))"
   ]
  },
  {
   "cell_type": "code",
   "execution_count": 11,
   "metadata": {},
   "outputs": [
    {
     "name": "stdout",
     "output_type": "stream",
     "text": [
      "Enter a number34\n",
      "<class 'str'>\n",
      "Enter a number23\n",
      "<class 'int'>\n"
     ]
    }
   ],
   "source": [
    "a = input('Enter a number')\n",
    "print(type(a))\n",
    "b = int(input('Enter a number'))\n",
    "print(type(b))"
   ]
  }
 ],
 "metadata": {
  "kernelspec": {
   "display_name": "Python 3",
   "language": "python",
   "name": "python3"
  },
  "language_info": {
   "codemirror_mode": {
    "name": "ipython",
    "version": 3
   },
   "file_extension": ".py",
   "mimetype": "text/x-python",
   "name": "python",
   "nbconvert_exporter": "python",
   "pygments_lexer": "ipython3",
   "version": "3.8.3"
  }
 },
 "nbformat": 4,
 "nbformat_minor": 4
}
