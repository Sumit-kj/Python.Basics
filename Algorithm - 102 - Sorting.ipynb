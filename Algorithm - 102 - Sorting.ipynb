{
 "cells": [
  {
   "cell_type": "markdown",
   "metadata": {},
   "source": [
    "<h1>Sorting</h1>\n",
    "<p>Arranging list or collection in a sorted fashion, ascedning or descending</p>"
   ]
  },
  {
   "cell_type": "markdown",
   "metadata": {},
   "source": [
    "<h3>Sorting Techniques</h3>\n",
    "<ul>Bubble Sort</ul>\n",
    "<ul>Selection Sort</ul>\n",
    "<ul>Insertion Sort</ul>\n",
    "<ul>Quick Sort</ul>\n",
    "<ul>Merge Sort</ul>\n",
    "<ul>Heap Sort</ul>"
   ]
  },
  {
   "cell_type": "code",
   "execution_count": null,
   "metadata": {},
   "outputs": [],
   "source": [
    "list_1, soln_1 = [2, 202, 2, 3, 200, 4, 5], 205\n",
    "list_2, soln_2 = [5, 6, 8, 20], 39\n"
   ]
  }
 ],
 "metadata": {
  "kernelspec": {
   "display_name": "Python 3",
   "language": "python",
   "name": "python3"
  },
  "language_info": {
   "codemirror_mode": {
    "name": "ipython",
    "version": 3
   },
   "file_extension": ".py",
   "mimetype": "text/x-python",
   "name": "python",
   "nbconvert_exporter": "python",
   "pygments_lexer": "ipython3",
   "version": "3.8.3"
  }
 },
 "nbformat": 4,
 "nbformat_minor": 4
}
