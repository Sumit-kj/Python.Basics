{
 "cells": [
  {
   "cell_type": "markdown",
   "metadata": {},
   "source": [
    "<h1>Functions</h1>"
   ]
  },
  {
   "cell_type": "markdown",
   "metadata": {},
   "source": [
    "<p>It is a block of code that:</p>\n",
    "<ul>is organized</ul>\n",
    "<ul>is reusable</ul>\n",
    "<ul>performs a set of actions</ul>\n",
    "<ul>provides modularity to program</ul>\n",
    "<ul>is also called methods</ul>"
   ]
  },
  {
   "cell_type": "markdown",
   "metadata": {},
   "source": [
    "<h3>Defining a Function</h3>\n",
    "<p>Function definition is done 2 parts:</p>\n",
    "<ul>function signature</ul>\n",
    "<ul>function body</ul>\n",
    "<p>Function Signature has following components:</p>\n",
    "<ul>def keyword</ul>\n",
    "<ul>name of the function</ul>\n",
    "<ul>parenthesis with parameters/arguments(optional)</ul>\n",
    "<ul>colon(:) marks the end of function signature</ul>\n",
    "<p>Function Body has following components:</p>\n",
    "<ul>Set of statements to perform certain actions</ul>\n",
    "<ul>return statement, that uses the return keyword to send an output for the function</ul>\n",
    "<h3>Syntax</h3>"
   ]
  },
  {
   "cell_type": "code",
   "execution_count": 2,
   "metadata": {},
   "outputs": [],
   "source": [
    "def function_name(paramters):\n",
    "    \"\"\"\n",
    "    function description goes here\n",
    "    \"\"\"\n",
    "    #body of function\n",
    "    return"
   ]
  },
  {
   "cell_type": "markdown",
   "metadata": {},
   "source": [
    "<h3>Example</h3>"
   ]
  },
  {
   "cell_type": "code",
   "execution_count": 3,
   "metadata": {},
   "outputs": [],
   "source": [
    "def print_statement(statement):\n",
    "    \"\"\"\n",
    "    This function prionts the statement passed\n",
    "    \"\"\"\n",
    "    print(statement)\n",
    "    return"
   ]
  },
  {
   "cell_type": "markdown",
   "metadata": {},
   "source": [
    "<h3>Calling a function</h3>"
   ]
  },
  {
   "cell_type": "code",
   "execution_count": 6,
   "metadata": {},
   "outputs": [
    {
     "name": "stdout",
     "output_type": "stream",
     "text": [
      "This is how we call a function\n"
     ]
    }
   ],
   "source": [
    "stmt = \"This is how we call a function\"\n",
    "print_statement(stmt)"
   ]
  },
  {
   "cell_type": "markdown",
   "metadata": {},
   "source": [
    "<h3>Parameters</h3>\n",
    "<p>values passed to a function as input are called parameters, also arguments.</p>\n",
    "<p>There are 2 types of parameters, in general (not specific to python):</p>\n",
    "<ul>Formal Parameter</ul>\n",
    "<ul>Actual Parameter</ul>\n",
    "<p><b>Formal parameter</b> are the parameters defined in function signature. Here in above example statement is formal parameter.</p>\n",
    "<p><b>Actual parameter</b> are the parameters used while calling the function. In above example, stmt is actual paramater.</p>\n",
    "&nbsp;\n",
    "<p>There are 4 types of paramters (python specific):</p>\n",
    "<ul>Required Parameters</ul>\n",
    "<ul>Keyword Parameters</ul>\n",
    "<ul>Default Parameters</ul>\n",
    "<ul>variable-length Parameters</ul>\n",
    "<h3>Example for required, keyword and default paramters</h3>"
   ]
  },
  {
   "cell_type": "code",
   "execution_count": 31,
   "metadata": {},
   "outputs": [
    {
     "name": "stdout",
     "output_type": "stream",
     "text": [
      "ID: 1\n",
      "Name: M. S. Dhoni\n",
      "Gender: Male\n",
      "Country: India\n",
      "\n",
      "ID: 2\n",
      "Name: Adam Gilchrist\n",
      "Gender: Male\n",
      "Country: Australia\n",
      "\n",
      "ID: 3\n",
      "Name: Mithali raj\n",
      "Gender: Female\n",
      "Country: India\n",
      "\n"
     ]
    }
   ],
   "source": [
    "def print_user_details(id, name, gender, country=\"India\"):\n",
    "    print(\"ID:\", id)\n",
    "    print(\"Name:\", name)\n",
    "    print(\"Gender:\", gender)\n",
    "    print(\"Country:\", country)\n",
    "    print()\n",
    "    return\n",
    "\n",
    "print_user_details(1, 'M. S. Dhoni', 'Male')\n",
    "print_user_details(2, 'Adam Gilchrist', 'Male', \"Australia\")\n",
    "print_user_details(country='India', name='Mithali raj', gender='Female', id=3)"
   ]
  },
  {
   "cell_type": "markdown",
   "metadata": {},
   "source": [
    "<p><b>Things to notice:</b></p>\n",
    "<p>id, name, gender are <b>required parameters</b>, that needs to be passed, whereas country is a <b>default paramter</b>, which means it has a default value in case no value is passed. As we can see, in example 1, we've passed all values except country, and it has default value \"india\". In example 2, we've passed \"Australia\" as value and that is assigned as country</p>\n",
    "<p>In example 1 and 2, we've passed parameters corresponding to their positions, whereas in 3, we've undefined order of paramters, but while passing actual paramter we're assigning them to formal paramters, which is example of <b>keyword paramters</b></p>\n",
    "<h3>Example for Varibale-length paramaters</h3>"
   ]
  },
  {
   "cell_type": "code",
   "execution_count": 32,
   "metadata": {},
   "outputs": [
    {
     "name": "stdout",
     "output_type": "stream",
     "text": [
      "60\n",
      "100\n",
      "150\n"
     ]
    }
   ],
   "source": [
    "def sum_of_unknown_number_of_numbers(*numbers):\n",
    "    sum = 0 \n",
    "    for num in numbers:\n",
    "        sum += num\n",
    "    return sum\n",
    "\n",
    "sum_1 = sum_of_unknown_number_of_numbers(10, 20, 30)\n",
    "sum_2 = sum_of_unknown_number_of_numbers(10, 20, 30, 40)\n",
    "sum_3 = sum_of_unknown_number_of_numbers(10, 20, 30, 40, 50)\n",
    "print(sum_1)\n",
    "print(sum_2)\n",
    "print(sum_3)"
   ]
  },
  {
   "cell_type": "markdown",
   "metadata": {},
   "source": [
    "<p><b>Thinsg to notice:</b></p>\n",
    "<p>Here we're passing any number of parameters and our function is calculating sum of it</p>\n",
    "<p>* signifies address, which means reference, it says a reference/address named numbers has been assigned as paramter and whatever is stored at that address, take that as input for the function.</p>"
   ]
  },
  {
   "cell_type": "markdown",
   "metadata": {},
   "source": [
    "<h3>Return Values</h3>\n",
    "<p>The function can/can not return value(s), depending upon use requirement of the function. A function, in python, can return multiple values as tuple.</p>\n",
    "<p>The return value can be assigned to a variable, or directly printed (the return value is passed as parameter to print statement).</p>\n",
    "<p>If there is no value returned from a function, and a variable is assigned to the function call, the variable will hold 'None' value.</p>\n",
    "<h3>Example</h3>"
   ]
  },
  {
   "cell_type": "code",
   "execution_count": 33,
   "metadata": {},
   "outputs": [
    {
     "name": "stdout",
     "output_type": "stream",
     "text": [
      "5\n",
      "(1, 20)\n",
      "inside function: 5\n",
      "None\n"
     ]
    }
   ],
   "source": [
    "def func_return_sum(a, b):\n",
    "    return a+b\n",
    "\n",
    "def func_return_difference_product(a, b):\n",
    "    return a-b, a*b\n",
    "\n",
    "def func_no_return(x):\n",
    "    print('inside function:', x)\n",
    "    return\n",
    "\n",
    "func_return_sum_value = func_return_sum(2, 3)\n",
    "print(func_return_sum_value)\n",
    "\n",
    "func_return_difference_product_value = func_return_difference_product(5, 4)\n",
    "print(func_return_difference_product_value)\n",
    "\n",
    "func_no_return_value = func_no_return(5)\n",
    "print(func_no_return_value)"
   ]
  },
  {
   "cell_type": "markdown",
   "metadata": {},
   "source": [
    "<h3>Call by Value v/s Call by Reference</h3>\n",
    "<p><b>Call by value</b> is like having a file, and making it's copy on your desktop and making changes to it doesn't change the original file. Same is for call by value, It creates a new copy and reference to the value in it's local scope.</p>\n",
    "\n",
    "<p><b>Call by Reference</b> is like creating a shortcut of the file on your desktop and making changes to it will change the original file. So is call by reference, we're passing the address of the value, so that any changes made in function are made on address and is reflected back from where it was called.</p>\n",
    "<h3>Example for Call by Value</h3>"
   ]
  },
  {
   "cell_type": "code",
   "execution_count": 14,
   "metadata": {},
   "outputs": [
    {
     "name": "stdout",
     "output_type": "stream",
     "text": [
      "out function: before change\n",
      "5\n",
      "in function: before change\n",
      "5\n",
      "in function: after change\n",
      "4\n",
      "out function: after change\n",
      "5\n"
     ]
    }
   ],
   "source": [
    "# Call by value\n",
    "def func_change_value(x):\n",
    "    print('in function: before change')\n",
    "    print(x)\n",
    "    x = 4\n",
    "    print('in function: after change')\n",
    "    print(x)\n",
    "    return\n",
    "\n",
    "x = 5\n",
    "print('out function: before change')\n",
    "print(x)\n",
    "func_change_value(x)\n",
    "print('out function: after change')\n",
    "print(x)\n"
   ]
  },
  {
   "cell_type": "markdown",
   "metadata": {},
   "source": [
    "<h3>Example for Call by reference</h3>"
   ]
  },
  {
   "cell_type": "code",
   "execution_count": 19,
   "metadata": {},
   "outputs": [
    {
     "name": "stdout",
     "output_type": "stream",
     "text": [
      "out function: before change\n",
      "[1, 2, 3]\n",
      "in function: before change\n",
      "[1, 2, 3]\n",
      "in function: after change\n",
      "[1, 2, [4, 5, 6]]\n",
      "out function: after change\n",
      "[1, 2, [4, 5, 6]]\n"
     ]
    }
   ],
   "source": [
    "def func_change_list_elem(x):\n",
    "    print('in function: before change')\n",
    "    print(x)\n",
    "    x[2] = [4, 5, 6]\n",
    "    print('in function: after change')\n",
    "    print(x)\n",
    "    return\n",
    "\n",
    "x = [1, 2, 3]\n",
    "print('out function: before change')\n",
    "print(x)\n",
    "func_change_list_elem(x)\n",
    "print('out function: after change')\n",
    "print(x)"
   ]
  },
  {
   "cell_type": "markdown",
   "metadata": {},
   "source": [
    "<p><b>Note:</b> The thing to notice is since we've made change to an index, it persists, if we would have changed the list, it wouldn't be ca call by reference, and corresponding changes aren't reflected.</p>"
   ]
  },
  {
   "cell_type": "code",
   "execution_count": 21,
   "metadata": {},
   "outputs": [
    {
     "name": "stdout",
     "output_type": "stream",
     "text": [
      "out function: before change\n",
      "[1, 2, 3]\n",
      "in function: before change\n",
      "[1, 2, 3]\n",
      "in function: after change\n",
      "[4, 5, 6]\n",
      "out function: after change\n",
      "[1, 2, 3]\n"
     ]
    }
   ],
   "source": [
    "def func_change_list(x):\n",
    "    print('in function: before change')\n",
    "    print(x)\n",
    "    x = [4, 5, 6]\n",
    "    print('in function: after change')\n",
    "    print(x)\n",
    "    return\n",
    "\n",
    "x = [1, 2, 3]\n",
    "print('out function: before change')\n",
    "print(x)\n",
    "func_change_list(x)\n",
    "print('out function: after change')\n",
    "print(x)"
   ]
  },
  {
   "cell_type": "markdown",
   "metadata": {},
   "source": [
    "<p><b>Note: </b>To change the list, we'd have to return the list from the function and reassign the golbal variable with the return value</p>"
   ]
  },
  {
   "cell_type": "code",
   "execution_count": 22,
   "metadata": {},
   "outputs": [
    {
     "name": "stdout",
     "output_type": "stream",
     "text": [
      "out function: before change\n",
      "[1, 2, 3]\n",
      "in function: before change\n",
      "[1, 2, 3]\n",
      "in function: after change\n",
      "[4, 5, 6]\n",
      "out function: after change\n",
      "[4, 5, 6]\n"
     ]
    }
   ],
   "source": [
    "def func_change_list_return(x):\n",
    "    print('in function: before change')\n",
    "    print(x)\n",
    "    x = [4, 5, 6]\n",
    "    print('in function: after change')\n",
    "    print(x)\n",
    "    return x\n",
    "\n",
    "x = [1, 2, 3]\n",
    "print('out function: before change')\n",
    "print(x)\n",
    "x = func_change_list_return(x)\n",
    "print('out function: after change')\n",
    "print(x)"
   ]
  },
  {
   "cell_type": "markdown",
   "metadata": {},
   "source": [
    "<h3>Lambda: The Anonymous Method</h3>\n",
    "<p>Lambdas are called anonymous because they're not defined as standard methods are defined.</p>\n",
    "<p>It uses <b>lambda</b> keyword to define a lambda.</p>\n",
    "<p>Lambda can take any number of paramters.</p>\n",
    "<p>Lambda can return only one value in form of an expression.</p>\n",
    "<p>Lamdba can't have commands or multiple expressions.</p>\n",
    "<p>lambda can only use parameters passed, no other variables can be used.</p>\n",
    "<p>Unlike standard methods which return value, Lamdbas can't have print statements.</p>\n",
    "<h3>Syntax</h3>\n",
    "<p>variable_name = <b>lambda</b> args_list : expressions</p>\n",
    "<h3>Example</h3>"
   ]
  },
  {
   "cell_type": "code",
   "execution_count": 34,
   "metadata": {},
   "outputs": [
    {
     "name": "stdout",
     "output_type": "stream",
     "text": [
      "Value of total :  30\n",
      "Value of total :  40\n"
     ]
    }
   ],
   "source": [
    "sum = lambda arg1, arg2: arg1 + arg2\n",
    "\n",
    "print (\"Value of total : \", sum(10, 20))\n",
    "print (\"Value of total : \", sum(20, 20))"
   ]
  },
  {
   "cell_type": "markdown",
   "metadata": {},
   "source": [
    "<h3>Scope of Variables</h3>\n",
    "<p>"
   ]
  }
 ],
 "metadata": {
  "kernelspec": {
   "display_name": "Python 3",
   "language": "python",
   "name": "python3"
  },
  "language_info": {
   "codemirror_mode": {
    "name": "ipython",
    "version": 3
   },
   "file_extension": ".py",
   "mimetype": "text/x-python",
   "name": "python",
   "nbconvert_exporter": "python",
   "pygments_lexer": "ipython3",
   "version": "3.8.3"
  }
 },
 "nbformat": 4,
 "nbformat_minor": 4
}
