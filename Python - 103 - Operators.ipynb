{
 "cells": [
  {
   "cell_type": "markdown",
   "metadata": {},
   "source": [
    "<h1>Python - 103 - Operators</h1>"
   ]
  },
  {
   "cell_type": "markdown",
   "metadata": {},
   "source": [
    "<p>Operators (Something that performs operation) and Operands (Something on which operation happens)</p>\n",
    "<p>Types of Operators:</p>\n",
    "<ul>Arithmetic Operators</ul>\n",
    "<ul>Comparison (Relational) Operators</ul>\n",
    "<ul>Assignment Operators</ul>\n",
    "<ul>Logical Operators</ul>\n",
    "<ul>Bitwise Operators</ul>\n",
    "<ul>Membership Operators</ul>\n",
    "<ul>Identity Operators</ul>"
   ]
  },
  {
   "cell_type": "markdown",
   "metadata": {},
   "source": [
    "<h4>Arithmatic Operators</h4>\n",
    "<ul>Addition(+)</ul>\n",
    "<ul>Subtraction(-)</ul>\n",
    "<ul>Multiplication(*)</ul>\n",
    "<ul>Division(/)</ul>\n",
    "<ul>Floor Division(//)</ul>\n",
    "<ul>Modulus(%)</ul>\n",
    "<ul>Exponent(**)</ul>"
   ]
  },
  {
   "cell_type": "code",
   "execution_count": 1,
   "metadata": {},
   "outputs": [
    {
     "name": "stdout",
     "output_type": "stream",
     "text": [
      "Line 1 - Value of c is  31\n",
      "Line 2 - Value of c is  11\n",
      "Line 3 - Value of c is  210\n",
      "Line 4 - Value of c is  2.1\n",
      "Line 5 - Value of c is  1\n",
      "Line 6 - Value of c is  8\n",
      "Line 7 - Value of c is  2\n"
     ]
    }
   ],
   "source": [
    "a = 21\n",
    "b = 10\n",
    "c = 0\n",
    "c = a + b\n",
    "print (\"Line 1 - Value of c is \", c)\n",
    "c = a - b\n",
    "print (\"Line 2 - Value of c is \", c )\n",
    "c = a * b\n",
    "print (\"Line 3 - Value of c is \", c)\n",
    "c = a / b\n",
    "print (\"Line 4 - Value of c is \", c )\n",
    "c = a % b\n",
    "print (\"Line 5 - Value of c is \", c)\n",
    "a = 2\n",
    "b = 3\n",
    "c = a**b\n",
    "print (\"Line 6 - Value of c is \", c)\n",
    "a = 10\n",
    "b = 5\n",
    "c = a//b\n",
    "print (\"Line 7 - Value of c is \", c)"
   ]
  },
  {
   "cell_type": "markdown",
   "metadata": {},
   "source": [
    "<h4>Comparision Operators</h4>\n",
    "<ul>==</ul>\n",
    "<ul>!=</ul>\n",
    "<ul>></ul>\n",
    "<ul><</ul>\n",
    "<ul>>=</ul>\n",
    "<ul><=</ul>"
   ]
  },
  {
   "cell_type": "code",
   "execution_count": 2,
   "metadata": {},
   "outputs": [
    {
     "name": "stdout",
     "output_type": "stream",
     "text": [
      "Line 1 - a is not equal to b\n",
      "Line 2 - a is not equal to b\n",
      "Line 3 - a is not less than b\n",
      "Line 4 - a is greater than b\n",
      "Line 5 - a is either less than or equal to b\n",
      "Line 6 - b is either greater than or equal to b\n"
     ]
    }
   ],
   "source": [
    "a = 21\n",
    "b = 10\n",
    "if ( a == b ):\n",
    "    print (\"Line 1 - a is equal to b\")\n",
    "else:\n",
    "    print (\"Line 1 - a is not equal to b\")\n",
    "if ( a != b ):\n",
    "    print (\"Line 2 - a is not equal to b\")\n",
    "else:\n",
    "    print (\"Line 2 - a is equal to b\")\n",
    "if ( a < b ):\n",
    "    print (\"Line 3 - a is less than b\" )\n",
    "else:\n",
    "    print (\"Line 3 - a is not less than b\")\n",
    "if ( a > b ):\n",
    "    print (\"Line 4 - a is greater than b\")\n",
    "else:\n",
    "    print (\"Line 4 - a is not greater than b\")\n",
    "a,b=b,a #values of a and b swapped. a becomes 10, b becomes 21\n",
    "if ( a <= b ):\n",
    "    print (\"Line 5 - a is either less than or equal to b\")\n",
    "else:\n",
    "    print (\"Line 5 - a is neither less than nor equal to b\")\n",
    "if ( b >= a ):\n",
    "    print (\"Line 6 - b is either greater than or equal to b\")\n",
    "else:\n",
    "    print (\"Line 6 - b is neither greater than nor equal to b\")"
   ]
  },
  {
   "cell_type": "markdown",
   "metadata": {},
   "source": [
    "<h4>Assignment Operators</h4>\n",
    "<ul>=</ul>\n",
    "<ul>+=</ul>\n",
    "<ul>-=</ul>\n",
    "<ul>*=</ul>\n",
    "<ul>/=</ul>\n",
    "<ul>%=</ul>\n",
    "<ul>**=</ul>\n",
    "<ul>//=</ul>"
   ]
  },
  {
   "cell_type": "code",
   "execution_count": 3,
   "metadata": {},
   "outputs": [
    {
     "name": "stdout",
     "output_type": "stream",
     "text": [
      "Line 1 - Value of c is  31\n",
      "Line 2 - Value of c is  52\n",
      "Line 3 - Value of c is  1092\n",
      "Line 4 - Value of c is  52.0\n",
      "Line 5 - Value of c is  2\n",
      "Line 6 - Value of c is  2097152\n",
      "Line 7 - Value of c is  99864\n"
     ]
    }
   ],
   "source": [
    "a = 21\n",
    "b = 10\n",
    "c = 0\n",
    "c = a + b\n",
    "print (\"Line 1 - Value of c is \", c)\n",
    "c += a\n",
    "print (\"Line 2 - Value of c is \", c )\n",
    "c *= a\n",
    "print (\"Line 3 - Value of c is \", c )\n",
    "c /= a\n",
    "print (\"Line 4 - Value of c is \", c )\n",
    "c = 2\n",
    "c %= a\n",
    "print (\"Line 5 - Value of c is \", c)\n",
    "c **= a\n",
    "print (\"Line 6 - Value of c is \", c)\n",
    "c //= a\n",
    "print (\"Line 7 - Value of c is \", c)"
   ]
  },
  {
   "cell_type": "markdown",
   "metadata": {},
   "source": [
    "<h4>Bitwise operators</h4>\n",
    "<p>Bitwise operator works on bits and performs bit-by-bit operation.</p>\n",
    "<ul>& Binary AND</ul>\n",
    "<ul>| Binary OR</ul>\n",
    "<ul>^ Binary XOR</ul>\n",
    "<ul>~ Binary Ones Complement</ul>\n",
    "<ul><< Binary Left Shift</ul>\n",
    "<ul>>> Binary Right Shift</ul>"
   ]
  },
  {
   "cell_type": "code",
   "execution_count": 4,
   "metadata": {},
   "outputs": [
    {
     "name": "stdout",
     "output_type": "stream",
     "text": [
      "a= 60 : 0b111100 b= 13 : 0b1101\n",
      "result of AND is  12 : 0b1100\n",
      "result of OR is  61 : 0b111101\n",
      "result of EXOR is  49 : 0b110001\n",
      "result of COMPLEMENT is  -61 : -0b111101\n",
      "result of LEFT SHIFT is  240 : 0b11110000\n",
      "result of RIGHT SHIFT is  15 : 0b1111\n"
     ]
    }
   ],
   "source": [
    "a = 60 # 60 = 0011 1100\n",
    "b = 13 # 13 = 0000 1101\n",
    "print ('a=',a,':',bin(a),'b=',b,':',bin(b))\n",
    "c = 0\n",
    "c = a & b; # 12 = 0000 1100\n",
    "print (\"result of AND is \", c,':',bin(c))\n",
    "c = a | b; # 61 = 0011 1101\n",
    "print (\"result of OR is \", c,':',bin(c))\n",
    "c = a ^ b; # 49 = 0011 0001\n",
    "print (\"result of EXOR is \", c,':',bin(c))\n",
    "c = ~a; # -61 = 1100 0011\n",
    "print (\"result of COMPLEMENT is \", c,':',bin(c))\n",
    "c = a << 2; # 240 = 1111 0000\n",
    "print (\"result of LEFT SHIFT is \", c,':',bin(c))\n",
    "c = a >> 2; # 15 = 0000 1111\n",
    "print (\"result of RIGHT SHIFT is \", c,':',bin(c))"
   ]
  },
  {
   "cell_type": "markdown",
   "metadata": {},
   "source": [
    "<h4>Logical Operators</h4>\n",
    "<ul>and Logical AND</ul>\n",
    "<ul>or Logical OR</ul>\n",
    "<ul>not Logical NOT</ul>"
   ]
  },
  {
   "cell_type": "markdown",
   "metadata": {},
   "source": [
    "<h4>Membership Operators</h4>\n",
    "<ul>in</ul>\n",
    "<ul>not in</ul>"
   ]
  },
  {
   "cell_type": "code",
   "execution_count": 5,
   "metadata": {},
   "outputs": [
    {
     "name": "stdout",
     "output_type": "stream",
     "text": [
      "Line 1 - a is not available in the given list\n",
      "Line 2 - b is not available in the given list\n",
      "Line 3 - a is available in the given list\n"
     ]
    }
   ],
   "source": [
    "a = 10\n",
    "b = 20\n",
    "list = [1, 2, 3, 4, 5 ]\n",
    "if ( a in list ):\n",
    "    print (\"Line 1 - a is available in the given list\")\n",
    "else:\n",
    "    print (\"Line 1 - a is not available in the given list\")\n",
    "if ( b not in list ):\n",
    "    print (\"Line 2 - b is not available in the given list\")\n",
    "else:\n",
    "    print (\"Line 2 - b is available in the given list\")\n",
    "c=b/a\n",
    "if ( c in list ):\n",
    "    print (\"Line 3 - a is available in the given list\")\n",
    "else:\n",
    "    print (\"Line 3 - a is not available in the given list\")"
   ]
  },
  {
   "cell_type": "markdown",
   "metadata": {},
   "source": [
    "<h4>Identity Operators</h4>\n",
    "<ul>is</ul>\n",
    "<ul>is not</ul>"
   ]
  },
  {
   "cell_type": "code",
   "execution_count": 2,
   "metadata": {},
   "outputs": [
    {
     "name": "stdout",
     "output_type": "stream",
     "text": [
      "Line 1 a= 20 : 140733454694784 b= 20 : 140733454694784\n",
      "Line 2 - a and b have same identity\n",
      "Line 3 - a and b have same identity\n",
      "Line 4 a= 20 : 140733454694784 b= 30 : 140733454695104\n",
      "Line 5 - a and b do not have same identity\n"
     ]
    }
   ],
   "source": [
    "a = 20\n",
    "b = 20\n",
    "print ('Line 1','a=',a,':',id(a), 'b=',b,':',id(b))\n",
    "if ( a is b ):\n",
    "    print (\"Line 2 - a and b have same identity\")\n",
    "else:\n",
    "    print (\"Line 2 - a and b do not have same identity\")\n",
    "if ( id(a) == id(b) ):\n",
    "    print (\"Line 3 - a and b have same identity\")\n",
    "else:\n",
    "    print (\"Line 3 - a and b do not have same identity\")\n",
    "b = 30\n",
    "print ('Line 4','a=',a,':',id(a), 'b=',b,':',id(b))\n",
    "if ( a is not b ):\n",
    "    print (\"Line 5 - a and b do not have same identity\")\n",
    "else:\n",
    "    print (\"Line 5 - a and b have same identity\")"
   ]
  }
 ],
 "metadata": {
  "kernelspec": {
   "display_name": "Python 3",
   "language": "python",
   "name": "python3"
  },
  "language_info": {
   "codemirror_mode": {
    "name": "ipython",
    "version": 3
   },
   "file_extension": ".py",
   "mimetype": "text/x-python",
   "name": "python",
   "nbconvert_exporter": "python",
   "pygments_lexer": "ipython3",
   "version": "3.8.3"
  }
 },
 "nbformat": 4,
 "nbformat_minor": 4
}
