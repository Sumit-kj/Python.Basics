{
 "cells": [
  {
   "cell_type": "markdown",
   "metadata": {},
   "source": [
    "<h1>Python - 104 - Decision Making</h1>"
   ]
  },
  {
   "cell_type": "markdown",
   "metadata": {},
   "source": [
    "<p>Decision-making is the anticipation of conditions occurring during the execution of a program and specified actions taken according to the conditions.</p>\n",
    "<p>Decision structures evaluate multiple expressions, which produce TRUE or FALSE as the outcome. You need to determine which action to take and which statements to execute if the outcome is TRUE or FALSE otherwise.</p>\n",
    "<p><b>Python programming language assumes any non-zero and non-null values as TRUE, and any zero or null values as FALSE value.</b></p>"
   ]
  },
  {
   "cell_type": "markdown",
   "metadata": {},
   "source": [
    "<h3>If Statement</h3>\n",
    "<h4>Syntax</h4>\n",
    "<p>if expression:</p>\n",
    "<p>&nbsp;&nbsp;&nbsp;&nbsp;statement(s)</p>\n",
    "<p>If the boolean expression evaluates to TRUE, then the block of statement(s) inside the if statement is executed. In Python, statements in a block are uniformly indented after the : symbol. If boolean expression evaluates to FALSE, then the first set of code after the end of block is executed.</p>"
   ]
  },
  {
   "cell_type": "code",
   "execution_count": 9,
   "metadata": {},
   "outputs": [
    {
     "name": "stdout",
     "output_type": "stream",
     "text": [
      "1 - Got a true expression value\n",
      "100\n",
      "2 - Got a true expression value\n",
      "3\n",
      "Good bye!\n"
     ]
    }
   ],
   "source": [
    "var1 = 100\n",
    "if var1:\n",
    "    print (\"1 - Got a true expression value\")\n",
    "    print (var1)\n",
    "    var2 = 3\n",
    "if var2:\n",
    "    print (\"2 - Got a true expression value\")\n",
    "    print (var2)\n",
    "    print (\"Good bye!\")"
   ]
  },
  {
   "cell_type": "markdown",
   "metadata": {},
   "source": [
    "<h3>If else</h3>\n",
    "<h4>Syntax</h4>\n",
    "<p>if expression:</p>\n",
    "<p>&nbsp;&nbsp;&nbsp;&nbsp;statement(s)</p>\n",
    "<p>else:</p>\n",
    "<p>&nbsp;&nbsp;&nbsp;&nbsp;statement(s)</p>\n",
    "<p>An else statement can be combined with an if statement. An else statement contains a block of code that executes if the conditional expression in the if statement resolves to 0 or a FALSE value.</p>\n",
    "<p>The else statement is an optional statement and there could be at the most only one else statement following if.</p>"
   ]
  },
  {
   "cell_type": "code",
   "execution_count": 10,
   "metadata": {},
   "outputs": [
    {
     "name": "stdout",
     "output_type": "stream",
     "text": [
      "Enter amount: 1000\n",
      "Discount 100.0\n",
      "Net payable: 900.0\n"
     ]
    }
   ],
   "source": [
    "amount=int(input(\"Enter amount: \"))\n",
    "if amount<1000:\n",
    "    discount=amount*0.05\n",
    "    print (\"Discount\",discount)\n",
    "else:\n",
    "    discount=amount*0.10\n",
    "    print (\"Discount\",discount)\n",
    "print (\"Net payable:\",amount-discount)"
   ]
  },
  {
   "cell_type": "markdown",
   "metadata": {},
   "source": [
    "<h3>If elif else</h3>\n",
    "<h4>Syntax</h4>\n",
    "<p>if expression1:</p>\n",
    "<p>&nbsp;&nbsp;&nbsp;&nbsp;statement(s)</p>\n",
    "<p>elif expression2:</p>\n",
    "<p>&nbsp;&nbsp;&nbsp;&nbsp;statement(s)</p>\n",
    "<p>else:</p>\n",
    "<p>&nbsp;&nbsp;&nbsp;&nbsp;statement(s)</p>"
   ]
  },
  {
   "cell_type": "code",
   "execution_count": 6,
   "metadata": {},
   "outputs": [
    {
     "name": "stdout",
     "output_type": "stream",
     "text": [
      "Enter amount: 100\n",
      "Discount 5.0\n"
     ]
    }
   ],
   "source": [
    "amount=int(input(\"Enter amount: \"))\n",
    "if amount<1000:\n",
    "    discount=amount*0.05\n",
    "    print (\"Discount\",discount)\n",
    "elif amount<5000:\n",
    "    discount=amount*0.10\n",
    "    print (\"Discount\",discount)\n",
    "else:\n",
    "    discount=amount*0.15\n",
    "    print (\"Discount\",discount)\n",
    "    print (\"Net payable:\",amount-discount)"
   ]
  },
  {
   "cell_type": "code",
   "execution_count": null,
   "metadata": {},
   "outputs": [],
   "source": []
  }
 ],
 "metadata": {
  "kernelspec": {
   "display_name": "Python 3",
   "language": "python",
   "name": "python3"
  },
  "language_info": {
   "codemirror_mode": {
    "name": "ipython",
    "version": 3
   },
   "file_extension": ".py",
   "mimetype": "text/x-python",
   "name": "python",
   "nbconvert_exporter": "python",
   "pygments_lexer": "ipython3",
   "version": "3.8.3"
  }
 },
 "nbformat": 4,
 "nbformat_minor": 4
}
