{
 "cells": [
  {
   "cell_type": "markdown",
   "metadata": {},
   "source": [
    "<h1>Python - 101 - Basics of Language</h1>"
   ]
  },
  {
   "cell_type": "markdown",
   "metadata": {},
   "source": [
    "<p>Machine Code -  code that machine understands. -> Assembly Level Langauge</p>\n",
    "<p>User: 2+3  => Computer: STR REG1 2 > STR REG2 3 > ADD REG1 REG2</p>\n",
    "<p>Byte Code - Interpreted/Compiled statements of normal High Level Language = Low Level Language = a.out as in C</p>\n",
    "<p>Source Code - HLL program written by user = program.c</p>"
   ]
  },
  {
   "cell_type": "markdown",
   "metadata": {},
   "source": [
    "<p>Python</p>\n",
    "<ul>Interpreted - No requirement to be compiled. Compilation : Source Code ->  Byte Code.</ul>\n",
    "<ul>Interactive - Interact directly ewith Interpreter - to and fro</ul>\n",
    "<ul>Objient-Oriented Programming- OOP - Abstraction, Encapsulation, Inheritance, Polymorphism</ul>\n",
    "<ul>Beginner's Language - Easy for new people.</ul>"
   ]
  },
  {
   "cell_type": "markdown",
   "metadata": {},
   "source": [
    "<h4>Print Statements</h4>"
   ]
  },
  {
   "cell_type": "code",
   "execution_count": 7,
   "metadata": {},
   "outputs": [
    {
     "name": "stdout",
     "output_type": "stream",
     "text": [
      "Hello\n",
      "5\n",
      "6\n",
      "5 6\n",
      "Hello5\n",
      "11\n"
     ]
    }
   ],
   "source": [
    "print('Hello')\n",
    "a = 5\n",
    "b = 6\n",
    "print(a)\n",
    "print(b)\n",
    "print(a,b)\n",
    "print('Hello' + str(a)) # + concatenates only strings, i.e. operands are string\n",
    "print(a+b) # + added the values, i.e. operands are integer"
   ]
  },
  {
   "cell_type": "code",
   "execution_count": 10,
   "metadata": {},
   "outputs": [
    {
     "name": "stdout",
     "output_type": "stream",
     "text": [
      "sumiViji\n",
      "3\n",
      "3\n"
     ]
    }
   ],
   "source": [
    "print('sumiViji')\n",
    "d=7\n",
    "e=4\n",
    "print(7-4)\n",
    "print(d-e)\n"
   ]
  },
  {
   "cell_type": "code",
   "execution_count": 16,
   "metadata": {},
   "outputs": [
    {
     "name": "stdout",
     "output_type": "stream",
     "text": [
      "10\n",
      "Hello 7\n"
     ]
    }
   ],
   "source": [
    "print(d+3)\n",
    "print('Hello',d)"
   ]
  },
  {
   "cell_type": "code",
   "execution_count": 17,
   "metadata": {},
   "outputs": [
    {
     "ename": "TypeError",
     "evalue": "unsupported operand type(s) for +: 'int' and 'str'",
     "output_type": "error",
     "traceback": [
      "\u001b[1;31m---------------------------------------------------------------------------\u001b[0m",
      "\u001b[1;31mTypeError\u001b[0m                                 Traceback (most recent call last)",
      "\u001b[1;32m<ipython-input-17-3a94a9d3968b>\u001b[0m in \u001b[0;36m<module>\u001b[1;34m\u001b[0m\n\u001b[1;32m----> 1\u001b[1;33m \u001b[0mprint\u001b[0m\u001b[1;33m(\u001b[0m\u001b[0md\u001b[0m\u001b[1;33m+\u001b[0m\u001b[1;34m'Hello'\u001b[0m\u001b[1;33m)\u001b[0m\u001b[1;33m\u001b[0m\u001b[1;33m\u001b[0m\u001b[0m\n\u001b[0m",
      "\u001b[1;31mTypeError\u001b[0m: unsupported operand type(s) for +: 'int' and 'str'"
     ]
    }
   ],
   "source": [
    "print(d+'Hello')"
   ]
  },
  {
   "cell_type": "code",
   "execution_count": 19,
   "metadata": {},
   "outputs": [
    {
     "name": "stdout",
     "output_type": "stream",
     "text": [
      "VijiHello\n"
     ]
    }
   ],
   "source": [
    "d = 'Viji'\n",
    "print(d+'Hello')"
   ]
  },
  {
   "cell_type": "code",
   "execution_count": 18,
   "metadata": {},
   "outputs": [
    {
     "ename": "SyntaxError",
     "evalue": "invalid syntax (<ipython-input-18-5cf9aa26be34>, line 1)",
     "output_type": "error",
     "traceback": [
      "\u001b[1;36m  File \u001b[1;32m\"<ipython-input-18-5cf9aa26be34>\"\u001b[1;36m, line \u001b[1;32m1\u001b[0m\n\u001b[1;33m    print('Hello'd)\u001b[0m\n\u001b[1;37m                 ^\u001b[0m\n\u001b[1;31mSyntaxError\u001b[0m\u001b[1;31m:\u001b[0m invalid syntax\n"
     ]
    }
   ],
   "source": [
    "print('Hello'd)"
   ]
  },
  {
   "cell_type": "markdown",
   "metadata": {},
   "source": [
    "<h4>Python Identifiers</h4>\n",
    "<p>A Python identifier is a name used to identify a variable, function, class, module or other object.</p>\n",
    "<p>An identifier starts with a letter A to Z or a to z or an underscore (_) followed by zero or more letters, underscores and digits (0 to 9).</p>\n",
    "<p>Python does not allow punctuation characters such as @, $, and % within identifiers.</p>\n",
    "<p>Python is a case sensitive programming language. Thus, Manpower and manpower are two different identifiers in Python.</p>\n",
    "<p>Here are naming conventions for Python identifiers-</p>\n",
    "<ul>Class names start with an uppercase letter. All other identifiers start with a lowercase letter.</ul>\n",
    "<ul>Starting an identifier with a single leading underscore indicates that the identifier is private.</ul>\n",
    "<ul>Starting an identifier with two leading underscores indicates a strong private identifier.</ul>\n",
    "<ul>If the identifier also ends with two trailing underscores, the identifier is a languagedefined special name.</ul>"
   ]
  },
  {
   "cell_type": "markdown",
   "metadata": {},
   "source": [
    "<h4>Reserved Words</h4>\n",
    "<p>Specific words that have meaning to Python Interpreter.</p>\n",
    "<p>[and, exec, Not, as, finally, or, assert, for, pass, break, from, print, class, global, raise, continue, if, return, def, import, try, del, in, while, elif, is, with, else, lambda, yield, except]</p>"
   ]
  },
  {
   "cell_type": "code",
   "execution_count": 25,
   "metadata": {},
   "outputs": [
    {
     "ename": "SyntaxError",
     "evalue": "invalid syntax (<ipython-input-25-abf9a163cca4>, line 1)",
     "output_type": "error",
     "traceback": [
      "\u001b[1;36m  File \u001b[1;32m\"<ipython-input-25-abf9a163cca4>\"\u001b[1;36m, line \u001b[1;32m1\u001b[0m\n\u001b[1;33m    elif = 5\u001b[0m\n\u001b[1;37m    ^\u001b[0m\n\u001b[1;31mSyntaxError\u001b[0m\u001b[1;31m:\u001b[0m invalid syntax\n"
     ]
    }
   ],
   "source": [
    "elif = 5"
   ]
  },
  {
   "cell_type": "markdown",
   "metadata": {},
   "source": [
    "<h4>Indentation</h4>"
   ]
  },
  {
   "cell_type": "markdown",
   "metadata": {},
   "source": [
    "<p>The tabs and :(colon)</p>"
   ]
  },
  {
   "cell_type": "code",
   "execution_count": 26,
   "metadata": {},
   "outputs": [
    {
     "name": "stdout",
     "output_type": "stream",
     "text": [
      "3\n",
      "4\n",
      "7\n"
     ]
    }
   ],
   "source": [
    "def sum_numbers(a, b):\n",
    "    print(a)\n",
    "    print(b)\n",
    "    return a+b\n",
    "\n",
    "sum_n = sum_numbers(3,4)\n",
    "print(sum_n)"
   ]
  },
  {
   "cell_type": "markdown",
   "metadata": {},
   "source": [
    "<h4>Multi-Line Statements</h4>\n",
    "<p>Statements in Python typically end with a new line. Python, however, allows the use of the line continuation character (\\) to denote that the line should continue.</p>"
   ]
  },
  {
   "cell_type": "code",
   "execution_count": null,
   "metadata": {},
   "outputs": [],
   "source": []
  },
  {
   "cell_type": "markdown",
   "metadata": {},
   "source": [
    "<p>The statements contained within the [], {}, or () brackets do not need to use the line continuation character.</p>"
   ]
  },
  {
   "cell_type": "code",
   "execution_count": null,
   "metadata": {},
   "outputs": [],
   "source": []
  },
  {
   "cell_type": "markdown",
   "metadata": {},
   "source": [
    "<h4>Quotation in Python</h4>\n",
    "<p>Python accepts single ('), double (\") and triple (''' or \"\"\") quotes to denote string literals, as long as the same type of quote starts and ends the string.</p>"
   ]
  },
  {
   "cell_type": "code",
   "execution_count": null,
   "metadata": {},
   "outputs": [],
   "source": []
  },
  {
   "cell_type": "markdown",
   "metadata": {},
   "source": [
    "<h4>Comments</h4>\n",
    "<p># and \"\"\" \"\"\"</p>"
   ]
  },
  {
   "cell_type": "code",
   "execution_count": null,
   "metadata": {},
   "outputs": [],
   "source": []
  },
  {
   "cell_type": "markdown",
   "metadata": {},
   "source": [
    "<h4>Input from User</h4>"
   ]
  },
  {
   "cell_type": "code",
   "execution_count": null,
   "metadata": {},
   "outputs": [],
   "source": []
  }
 ],
 "metadata": {
  "kernelspec": {
   "display_name": "Python 3",
   "language": "python",
   "name": "python3"
  },
  "language_info": {
   "codemirror_mode": {
    "name": "ipython",
    "version": 3
   },
   "file_extension": ".py",
   "mimetype": "text/x-python",
   "name": "python",
   "nbconvert_exporter": "python",
   "pygments_lexer": "ipython3",
   "version": "3.8.3"
  }
 },
 "nbformat": 4,
 "nbformat_minor": 4
}
