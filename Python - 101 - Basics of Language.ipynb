{
 "cells": [
  {
   "cell_type": "markdown",
   "metadata": {},
   "source": [
    "<h1>Python - 101 - Basics of Language</h1>"
   ]
  },
  {
   "cell_type": "markdown",
   "metadata": {},
   "source": [
    "<p>Machine Code -  code that machine understands. -> Assembly Level Langauge</p>\n",
    "<p>User: 2+3  => Computer: STR REG1 2 > STR REG2 3 > ADD REG1 REG2</p>\n",
    "<p>Byte Code - Interpreted/Compiled statements of normal High Level Language = Low Level Language = a.out as in C</p>\n",
    "<p>Source Code - HLL program written by user = program.c</p>"
   ]
  },
  {
   "cell_type": "markdown",
   "metadata": {},
   "source": [
    "<p>Python</p>\n",
    "<ul>Interpreted - No requirement to be compiled. Compilation : Source Code ->  Byte Code.</ul>\n",
    "<ul>Interactive - Interact directly with Interpreter - to and fro</ul>\n",
    "<ul>Objient-Oriented Programming- OOP - Abstraction, Encapsulation, Inheritance, Polymorphism</ul>\n",
    "<ul>Beginner's Language - Easy for new people.</ul>"
   ]
  },
  {
   "cell_type": "markdown",
   "metadata": {},
   "source": [
    "<h4>Print Statements</h4>"
   ]
  },
  {
   "cell_type": "code",
   "execution_count": 1,
   "metadata": {},
   "outputs": [],
   "source": [
    "print('Hello')\n",
    "a = 5\n",
    "b = 6\n",
    "c = 'Welcome'\n",
    "print(a)\n",
    "print(b)\n",
    "print(a,b, c)\n",
    "print('Hello' + str(a)) # + concatenates only strings, i.e. operands are string\n",
    "print(a+b) # + added the values, i.e. operands are integer"
   ]
  },
  {
   "cell_type": "code",
   "execution_count": 2,
   "metadata": {},
   "outputs": [],
   "source": [
    "print('Hello')\n",
    "d=7\n",
    "e=4\n",
    "print(7-4)\n",
    "print(d-e)\n"
   ]
  },
  {
   "cell_type": "code",
   "execution_count": 3,
   "metadata": {},
   "outputs": [
    {
     "name": "stdout",
     "output_type": "stream",
     "text": [
      "10\n",
      "Hello 7\n"
     ]
    }
   ],
   "source": [
    "print(d+3)\n",
    "print('Hello',d)"
   ]
  },
  {
   "cell_type": "code",
   "execution_count": 4,
   "metadata": {},
   "outputs": [],
   "source": [
    "#print(d+'Hello')"
   ]
  },
  {
   "cell_type": "code",
   "execution_count": 5,
   "metadata": {},
   "outputs": [
    {
     "name": "stdout",
     "output_type": "stream",
     "text": [
      "WelcomeHello\n"
     ]
    }
   ],
   "source": [
    "d = 'Welcome'\n",
    "print(d+'Hello')"
   ]
  },
  {
   "cell_type": "code",
   "execution_count": 6,
   "metadata": {},
   "outputs": [],
   "source": [
    "#print('Hello'd)"
   ]
  },
  {
   "cell_type": "markdown",
   "metadata": {},
   "source": [
    "<h4>Python Identifiers</h4>\n",
    "<p>A Python identifier is a name used to identify a variable, function, class, module or other object.</p>\n",
    "<p>An identifier starts with a letter A to Z or a to z or an underscore (_) followed by zero or more letters, underscores and digits (0 to 9).</p>\n",
    "<p>Python does not allow punctuation characters such as @, $, and % within identifiers.</p>\n",
    "<p>Python is a case sensitive programming language. Thus, Manpower and manpower are two different identifiers in Python.</p>\n",
    "<p>Here are naming conventions for Python identifiers-</p>\n",
    "<ul>Class names start with an uppercase letter. All other identifiers start with a lowercase letter.</ul>\n",
    "<ul>Starting an identifier with a single leading underscore indicates that the identifier is private.</ul>\n",
    "<ul>Starting an identifier with two leading underscores indicates a strong private identifier.</ul>\n",
    "<ul>If the identifier also ends with two trailing underscores, the identifier is a languagedefined special name.</ul>"
   ]
  },
  {
   "cell_type": "markdown",
   "metadata": {},
   "source": [
    "<h4>Reserved Words</h4>\n",
    "<p>Specific words that have meaning to Python Interpreter.</p>\n",
    "<p>[and, exec, Not, as, finally, or, assert, for, pass, break, from, print, class, global, raise, continue, if, return, def, import, try, del, in, while, elif, is, with, else, lambda, yield, except]</p>"
   ]
  },
  {
   "cell_type": "code",
   "execution_count": 7,
   "metadata": {},
   "outputs": [],
   "source": [
    "#elif = 5"
   ]
  },
  {
   "cell_type": "markdown",
   "metadata": {},
   "source": [
    "<h4>Indentation</h4>"
   ]
  },
  {
   "cell_type": "markdown",
   "metadata": {},
   "source": [
    "<p>The tabs and :(colon)</p>"
   ]
  },
  {
   "cell_type": "code",
   "execution_count": 8,
   "metadata": {},
   "outputs": [
    {
     "name": "stdout",
     "output_type": "stream",
     "text": [
      "6\n",
      "4\n",
      "2\n"
     ]
    }
   ],
   "source": [
    "def sum_numbers(a, b):\n",
    "    print(a)\n",
    "    print(b)\n",
    "    if a == 3:\n",
    "        return a+b\n",
    "    return a-b\n",
    "\n",
    "sum_n = sum_numbers(6,4)\n",
    "print(sum_n)"
   ]
  },
  {
   "cell_type": "markdown",
   "metadata": {},
   "source": [
    "<h4>Multi-Line Statements</h4>\n",
    "<p>Statements in Python typically end with a new line. Python, however, allows the use of the line continuation character (\\) to denote that the line should continue.</p>"
   ]
  },
  {
   "cell_type": "code",
   "execution_count": 9,
   "metadata": {},
   "outputs": [
    {
     "name": "stdout",
     "output_type": "stream",
     "text": [
      "111\n"
     ]
    }
   ],
   "source": [
    "a = 1 + 2 + 3 + 2 + 3 + 2 + 3 + 2 + 3 + 2 + 3 + 2 + 3 + 2 + 3 + 2 + 3 + 2 + 3 + 2 + 3 + 2 + 3 + 2 + 3 + 2 + 3 + 2 + 3 + 2\\\n",
    "+ 3 + 2 + 3 + 2 + 3 + 2 + 3 + 2 + 3 + 2 + 3 + 2 + 3 + 2 + 3 \n",
    "print(a)"
   ]
  },
  {
   "cell_type": "markdown",
   "metadata": {},
   "source": [
    "<p>The statements contained within the [], {}, or () brackets do not need to use the line continuation character.</p>"
   ]
  },
  {
   "cell_type": "code",
   "execution_count": 10,
   "metadata": {},
   "outputs": [
    {
     "name": "stdout",
     "output_type": "stream",
     "text": [
      "[1, 2]\n",
      "(2, 3)\n",
      "{'name': 'Bangalore', 'state': 'Karanataka', 'country': 'india', 'phone_code': 80}\n"
     ]
    }
   ],
   "source": [
    "a = [1,\n",
    "    2]\n",
    "b = (2,\n",
    "    3)\n",
    "c = {\n",
    "    'name': 'Bangalore',\n",
    "    'state': 'Karanataka',\n",
    "    'country': 'india',\n",
    "    'phone_code': 80\n",
    "}\n",
    "print(a)\n",
    "print(b)\n",
    "print(c)"
   ]
  },
  {
   "cell_type": "markdown",
   "metadata": {},
   "source": [
    "<h4>Quotation in Python</h4>\n",
    "<p>Python accepts single ('), double (\") and triple (''' or \"\"\") quotes to denote string literals, as long as the same type of quote starts and ends the string.</p>"
   ]
  },
  {
   "cell_type": "code",
   "execution_count": 11,
   "metadata": {},
   "outputs": [
    {
     "name": "stdout",
     "output_type": "stream",
     "text": [
      "Welcome Welcome Welcome Welcome\n",
      "Select * from table_name\n",
      "    select *    from  table_name    where expression\n",
      "\n",
      "    select *\n",
      "    from  table_name\n",
      "    where expression\n",
      "\n"
     ]
    }
   ],
   "source": [
    "a = 'Welcome'\n",
    "b = \"Welcome\"\n",
    "c = '''Welcome'''\n",
    "d = \"\"\"Welcome\"\"\"\n",
    "print(a,b,c, d)\n",
    "q1 = 'Select * from table_name'\n",
    "q2 = \"\\\n",
    "    select *\\\n",
    "    from  table_name\\\n",
    "    where expression\\\n",
    "\"\n",
    "q3 = \"\"\"\n",
    "    select *\n",
    "    from  table_name\n",
    "    where expression\n",
    "\"\"\"\n",
    "print(q1)\n",
    "print(q2)\n",
    "print(q3)"
   ]
  },
  {
   "cell_type": "markdown",
   "metadata": {},
   "source": [
    "<h4>Comments</h4>\n",
    "<p># and \"\"\" \"\"\"</p>"
   ]
  },
  {
   "cell_type": "code",
   "execution_count": 12,
   "metadata": {},
   "outputs": [
    {
     "data": {
      "text/plain": [
       "'Single Line, eh?'"
      ]
     },
     "execution_count": 12,
     "metadata": {},
     "output_type": "execute_result"
    }
   ],
   "source": [
    "# single line comments\n",
    "\"\"\"\n",
    "    Multiple line quotes\n",
    "    Line 2\n",
    "    Line 3\n",
    "\"\"\"\n",
    "\"Single Line, eh?\""
   ]
  },
  {
   "cell_type": "markdown",
   "metadata": {},
   "source": [
    "<h4>Input from User</h4>"
   ]
  },
  {
   "cell_type": "code",
   "execution_count": null,
   "metadata": {},
   "outputs": [],
   "source": [
    "a = input('Enter a numnber')\n",
    "print(a)"
   ]
  }
 ],
 "metadata": {
  "kernelspec": {
   "display_name": "Python 3",
   "language": "python",
   "name": "python3"
  },
  "language_info": {
   "codemirror_mode": {
    "name": "ipython",
    "version": 3
   },
   "file_extension": ".py",
   "mimetype": "text/x-python",
   "name": "python",
   "nbconvert_exporter": "python",
   "pygments_lexer": "ipython3",
   "version": "3.8.3"
  }
 },
 "nbformat": 4,
 "nbformat_minor": 4
}
