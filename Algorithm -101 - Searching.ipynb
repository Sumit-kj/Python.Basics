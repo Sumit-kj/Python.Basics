{
 "cells": [
  {
   "cell_type": "markdown",
   "metadata": {},
   "source": [
    "<h1>Searching</h1>\n",
    "<p>Searching is process of finding elements in a colletcion, generally list.</p>\n",
    "<p>Searching is done in two methods, namely Linear Search and Binary Search</p>"
   ]
  },
  {
   "cell_type": "markdown",
   "metadata": {},
   "source": [
    "<h3>Linear Search</h3>\n",
    "<p>This method incorporates linear traversal through the list while comparing each element with the key we're searching for.</p>\n",
    "<p>The time complexity for this method is O(n).</p>"
   ]
  },
  {
   "cell_type": "code",
   "execution_count": 6,
   "metadata": {},
   "outputs": [],
   "source": [
    "#defining array and key\n",
    "arr = [1, 2, 3, 4, 5, 6, 7, 8, 9, 10]\n",
    "key_1 = 8\n",
    "key_2 = -4"
   ]
  },
  {
   "cell_type": "code",
   "execution_count": 7,
   "metadata": {},
   "outputs": [],
   "source": [
    "def linear_search(arr, key):\n",
    "    found_key = False\n",
    "    for i in arr:\n",
    "        if i == key:\n",
    "            print('Found')\n",
    "            found_key = True\n",
    "            break\n",
    "    if not found_key:\n",
    "        print('Not found')"
   ]
  },
  {
   "cell_type": "code",
   "execution_count": 8,
   "metadata": {},
   "outputs": [
    {
     "name": "stdout",
     "output_type": "stream",
     "text": [
      "Yes\n"
     ]
    }
   ],
   "source": [
    "linear_search(arr, key_1)"
   ]
  },
  {
   "cell_type": "code",
   "execution_count": 9,
   "metadata": {},
   "outputs": [
    {
     "name": "stdout",
     "output_type": "stream",
     "text": [
      "No\n"
     ]
    }
   ],
   "source": [
    "linear_search(arr, key_2)"
   ]
  },
  {
   "cell_type": "code",
   "execution_count": 10,
   "metadata": {},
   "outputs": [],
   "source": [
    "def linear_search_with_index(arr, key):\n",
    "    found_key = False\n",
    "    for i, val in enumerate(arr):\n",
    "        if val == key:\n",
    "            print('Found at', i)\n",
    "            found_key = True\n",
    "            break\n",
    "    if not found_key:\n",
    "        print('Not found')"
   ]
  },
  {
   "cell_type": "code",
   "execution_count": 11,
   "metadata": {},
   "outputs": [
    {
     "name": "stdout",
     "output_type": "stream",
     "text": [
      "Found at 7\n"
     ]
    }
   ],
   "source": [
    "linear_search_with_index(arr, key_1)"
   ]
  },
  {
   "cell_type": "code",
   "execution_count": 12,
   "metadata": {},
   "outputs": [
    {
     "name": "stdout",
     "output_type": "stream",
     "text": [
      "Not found\n"
     ]
    }
   ],
   "source": [
    "linear_search_with_index(arr, key_2)"
   ]
  },
  {
   "cell_type": "markdown",
   "metadata": {},
   "source": [
    "<h3>Binary Search</h3>\n",
    "<p>This method is used for sorted arrays only.</p>\n",
    "<p>In this method, we compare the middle element with the key, there are 3 scenarios possible in this case:</p>\n",
    "<ul>the middle element matches the key, and we return the index.</ul>\n",
    "<ul>the middle key is smaller than the key, now we search the same key in sub-array right to the middle element, i.e. from middle + 1 to end</ul>\n",
    "<ul>the middle key is larger than the key, now we search the same key in sub-array left to the middle element, i.e. from start to middle - 1</ul>"
   ]
  },
  {
   "cell_type": "code",
   "execution_count": 28,
   "metadata": {},
   "outputs": [],
   "source": [
    "def binary_search(arr, key, low=0, high=len(arr)):\n",
    "    if low > high:\n",
    "        return -1\n",
    "    mid = int((low + high)/2)\n",
    "    if arr[mid] == key:\n",
    "        return mid\n",
    "    elif arr[mid] < key:\n",
    "        return binary_search(arr, key, mid + 1, high)\n",
    "    else:\n",
    "        return binary_search(arr, key, low, mid - 1)"
   ]
  },
  {
   "cell_type": "code",
   "execution_count": 31,
   "metadata": {},
   "outputs": [
    {
     "name": "stdout",
     "output_type": "stream",
     "text": [
      "found at 7\n"
     ]
    }
   ],
   "source": [
    "index = binary_search(arr, key_1)\n",
    "print('found at', index) if index != -1 else print('Not Found') "
   ]
  },
  {
   "cell_type": "code",
   "execution_count": 32,
   "metadata": {},
   "outputs": [
    {
     "name": "stdout",
     "output_type": "stream",
     "text": [
      "Not Found\n"
     ]
    }
   ],
   "source": [
    "index = binary_search(arr, key_2)\n",
    "print('found at', index) if index != -1 else print('Not Found') "
   ]
  },
  {
   "cell_type": "code",
   "execution_count": null,
   "metadata": {},
   "outputs": [],
   "source": []
  }
 ],
 "metadata": {
  "kernelspec": {
   "display_name": "Python 3",
   "language": "python",
   "name": "python3"
  },
  "language_info": {
   "codemirror_mode": {
    "name": "ipython",
    "version": 3
   },
   "file_extension": ".py",
   "mimetype": "text/x-python",
   "name": "python",
   "nbconvert_exporter": "python",
   "pygments_lexer": "ipython3",
   "version": "3.8.3"
  }
 },
 "nbformat": 4,
 "nbformat_minor": 4
}
